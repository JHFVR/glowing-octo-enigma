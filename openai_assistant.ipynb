{
 "cells": [
  {
   "cell_type": "code",
   "execution_count": 1,
   "metadata": {},
   "outputs": [],
   "source": [
    "#install required packages \n",
    "!pip3 install -q streamlit openai python-dotenv"
   ]
  },
  {
   "cell_type": "code",
   "execution_count": 2,
   "metadata": {},
   "outputs": [],
   "source": [
    "#import moduls\n",
    "from openai import OpenAI\n",
    "import streamlit\n",
    "from dotenv import load_dotenv\n",
    "from IPython.display import JSON"
   ]
  },
  {
   "cell_type": "code",
   "execution_count": 5,
   "metadata": {},
   "outputs": [],
   "source": [
    "load_dotenv()\n",
    "client = OpenAI()"
   ]
  },
  {
   "cell_type": "markdown",
   "metadata": {},
   "source": [
    "Create assistant"
   ]
  },
  {
   "cell_type": "code",
   "execution_count": 6,
   "metadata": {},
   "outputs": [],
   "source": [
    "assistant = client.beta.assistants.create(\n",
    "    name=\"Math Tutor\",\n",
    "    instructions=\"You are a personal math tutor. Write and run code to answer math questions.\",\n",
    "    tools=[{\"type\": \"code_interpreter\"}],\n",
    "    model=\"gpt-4-1106-preview\"\n",
    ")"
   ]
  },
  {
   "cell_type": "markdown",
   "metadata": {},
   "source": [
    "Create Thread"
   ]
  },
  {
   "cell_type": "code",
   "execution_count": 7,
   "metadata": {},
   "outputs": [],
   "source": [
    "thread = client.beta.threads.create()"
   ]
  },
  {
   "cell_type": "markdown",
   "metadata": {},
   "source": [
    "Post first message to thread"
   ]
  },
  {
   "cell_type": "code",
   "execution_count": 79,
   "metadata": {},
   "outputs": [],
   "source": [
    "message = client.beta.threads.messages.create(\n",
    "    thread_id=thread.id,\n",
    "    role=\"user\",\n",
    "    content=\"I need to solve the equation `3x + 11 = 14`. Can you help me?\"\n",
    ")"
   ]
  },
  {
   "cell_type": "code",
   "execution_count": 85,
   "metadata": {},
   "outputs": [
    {
     "name": "stdout",
     "output_type": "stream",
     "text": [
      "[ThreadMessage(id='msg_hiBWhe5nhEa87ymrXbzaKcE3', assistant_id='asst_wB3wo3rILPZn8jcSlTKQv8pz', content=[MessageContentText(text=Text(annotations=[], value='The solution to the equation \\\\(3x + 11 = 14\\\\) is \\\\(x = 1\\\\).'), type='text')], created_at=1699824517, file_ids=[], metadata={}, object='thread.message', role='assistant', run_id='run_hsmx0dfKIxwFraY1r9s0rrSv', thread_id='thread_FseH5BmgWEu4CtB6ObzrHPPN'), ThreadMessage(id='msg_jafYKigy8wp9bNhP5a41TH4U', assistant_id=None, content=[MessageContentText(text=Text(annotations=[], value='I need to solve the equation `3x + 11 = 14`. Can you help me?'), type='text')], created_at=1699824480, file_ids=[], metadata={}, object='thread.message', role='user', run_id=None, thread_id='thread_FseH5BmgWEu4CtB6ObzrHPPN')]\n"
     ]
    }
   ],
   "source": [
    "thread_messages = client.beta.threads.messages.list(message.thread_id)\n",
    "print(thread_messages.data)\n"
   ]
  },
  {
   "cell_type": "code",
   "execution_count": 81,
   "metadata": {},
   "outputs": [],
   "source": [
    "run = client.beta.threads.runs.create(\n",
    "  thread_id=thread.id,\n",
    "  assistant_id=assistant.id,\n",
    "  instructions=\"Please address the user as Jane Doe. The user has a premium account.\"\n",
    ")"
   ]
  },
  {
   "cell_type": "code",
   "execution_count": 82,
   "metadata": {},
   "outputs": [
    {
     "name": "stdout",
     "output_type": "stream",
     "text": [
      "Run(id='run_hsmx0dfKIxwFraY1r9s0rrSv', assistant_id='asst_wB3wo3rILPZn8jcSlTKQv8pz', cancelled_at=None, completed_at=1699824517, created_at=1699824509, expires_at=None, failed_at=None, file_ids=[], instructions='Please address the user as Jane Doe. The user has a premium account.', last_error=None, metadata={}, model='gpt-4-1106-preview', object='thread.run', required_action=None, started_at=1699824509, status='completed', thread_id='thread_FseH5BmgWEu4CtB6ObzrHPPN', tools=[ToolAssistantToolsCode(type='code_interpreter')])\n"
     ]
    }
   ],
   "source": [
    "run = client.beta.threads.runs.retrieve(\n",
    "  thread_id=thread.id,\n",
    "  run_id=run.id\n",
    ")\n",
    "print(run)"
   ]
  },
  {
   "cell_type": "code",
   "execution_count": 83,
   "metadata": {},
   "outputs": [
    {
     "name": "stdout",
     "output_type": "stream",
     "text": [
      "Thread(id='thread_FseH5BmgWEu4CtB6ObzrHPPN', created_at=1699824472, metadata={}, object='thread')\n"
     ]
    }
   ],
   "source": [
    "my_thread = client.beta.threads.retrieve(thread.id)\n",
    "print(my_thread)"
   ]
  },
  {
   "cell_type": "code",
   "execution_count": 86,
   "metadata": {},
   "outputs": [
    {
     "name": "stdout",
     "output_type": "stream",
     "text": [
      "[ThreadMessage(id='msg_hiBWhe5nhEa87ymrXbzaKcE3', assistant_id='asst_wB3wo3rILPZn8jcSlTKQv8pz', content=[MessageContentText(text=Text(annotations=[], value='The solution to the equation \\\\(3x + 11 = 14\\\\) is \\\\(x = 1\\\\).'), type='text')], created_at=1699824517, file_ids=[], metadata={}, object='thread.message', role='assistant', run_id='run_hsmx0dfKIxwFraY1r9s0rrSv', thread_id='thread_FseH5BmgWEu4CtB6ObzrHPPN'), ThreadMessage(id='msg_jafYKigy8wp9bNhP5a41TH4U', assistant_id=None, content=[MessageContentText(text=Text(annotations=[], value='I need to solve the equation `3x + 11 = 14`. Can you help me?'), type='text')], created_at=1699824480, file_ids=[], metadata={}, object='thread.message', role='user', run_id=None, thread_id='thread_FseH5BmgWEu4CtB6ObzrHPPN')]\n"
     ]
    }
   ],
   "source": [
    "thread_messages = client.beta.threads.messages.list(message.thread_id)\n",
    "print(thread_messages.data)"
   ]
  },
  {
   "cell_type": "markdown",
   "metadata": {},
   "source": [
    "List all assitants"
   ]
  },
  {
   "cell_type": "code",
   "execution_count": 44,
   "metadata": {},
   "outputs": [
    {
     "name": "stdout",
     "output_type": "stream",
     "text": [
      "[Assistant(id='asst_MtdcfhHMo7Ov3cx0zoBBPzWi', created_at=1699823256, description=None, file_ids=[], instructions='You are a personal math tutor. Write and run code to answer math questions.', metadata={}, model='gpt-4-1106-preview', name='Math Tutor', object='assistant', tools=[ToolCodeInterpreter(type='code_interpreter')]), Assistant(id='asst_DaMkfT1LOI12vUVqRoKpsEew', created_at=1699822833, description=None, file_ids=[], instructions='You are a personal math tutor. Write and run code to answer math questions.', metadata={}, model='gpt-4-1106-preview', name='Math Tutor', object='assistant', tools=[ToolCodeInterpreter(type='code_interpreter')]), Assistant(id='asst_Z8SUIWsXEnL8oQ1NGWSsbypJ', created_at=1699822671, description=None, file_ids=[], instructions='You are a personal math tutor. Write and run code to answer math questions.', metadata={}, model='gpt-4-1106-preview', name='Math Tutor', object='assistant', tools=[ToolCodeInterpreter(type='code_interpreter')]), Assistant(id='asst_8Kwj81ZP7655OX1aQvWnZSfF', created_at=1699822489, description=None, file_ids=[], instructions='You are a personal math tutor. Write and run code to answer math questions.', metadata={}, model='gpt-4-1106-preview', name='Math Tutor', object='assistant', tools=[ToolCodeInterpreter(type='code_interpreter')]), Assistant(id='asst_xt6gi1sNKZo86dVJHLSWgBEx', created_at=1699816254, description=None, file_ids=[], instructions='You are a personal math tutor. Write and run code to answer math questions.', metadata={}, model='gpt-4-1106-preview', name='Math Tutor', object='assistant', tools=[ToolCodeInterpreter(type='code_interpreter')]), Assistant(id='asst_STuXWYfir8A4TxGh6SE5pTjb', created_at=1699615205, description=None, file_ids=[], instructions='You are a personal math tutor. Write and run code to answer math questions.', metadata={}, model='gpt-4-1106-preview', name='Math Tutor', object='assistant', tools=[ToolCodeInterpreter(type='code_interpreter')]), Assistant(id='asst_umkxIh2imkm7qwgNSD0kdk5V', created_at=1699481560, description=None, file_ids=['file-EnlnyDQlOllKjdRp2uc6ti83'], instructions='Your a helpful, sassy assistant that helps me as a business user to understand my documents and get my tasks done efficiently across many different business systems by using their APIs for me', metadata={}, model='gpt-4-1106-preview', name='Jewel', object='assistant', tools=[ToolRetrieval(type='retrieval')])]\n"
     ]
    }
   ],
   "source": [
    "my_assistants = client.beta.assistants.list(\n",
    "    order=\"desc\",\n",
    "    limit=\"20\",\n",
    ")\n",
    "print(my_assistants.data)"
   ]
  },
  {
   "cell_type": "markdown",
   "metadata": {},
   "source": [
    "Delete assistant"
   ]
  },
  {
   "cell_type": "code",
   "execution_count": 76,
   "metadata": {},
   "outputs": [
    {
     "name": "stdout",
     "output_type": "stream",
     "text": [
      "AssistantDeleted(id='asst_TZWmhD0OGTQKpDhmrymKfQ6Y', deleted=True, object='assistant.deleted')\n"
     ]
    }
   ],
   "source": [
    "# EMpty list, get assistant data and extract ids\n",
    "extracted_ids = []\n",
    "my_assistants = client.beta.assistants.list(\n",
    "    order=\"desc\",\n",
    "    limit=\"20\",\n",
    ")\n",
    "\n",
    "for assistant in my_assistants.data:\n",
    "    extracted_ids.append(assistant.id)\n",
    "\n",
    "for extracted_ids in extracted_ids:\n",
    "    response = client.beta.assistants.delete(extracted_ids)\n",
    "    print(response)"
   ]
  },
  {
   "cell_type": "code",
   "execution_count": null,
   "metadata": {},
   "outputs": [],
   "source": []
  }
 ],
 "metadata": {
  "kernelspec": {
   "display_name": "Python 3",
   "language": "python",
   "name": "python3"
  },
  "language_info": {
   "codemirror_mode": {
    "name": "ipython",
    "version": 3
   },
   "file_extension": ".py",
   "mimetype": "text/x-python",
   "name": "python",
   "nbconvert_exporter": "python",
   "pygments_lexer": "ipython3",
   "version": "3.12.0"
  }
 },
 "nbformat": 4,
 "nbformat_minor": 2
}
