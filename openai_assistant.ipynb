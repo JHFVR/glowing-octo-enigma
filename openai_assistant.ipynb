{
 "cells": [
  {
   "cell_type": "code",
   "execution_count": 1,
   "metadata": {},
   "outputs": [],
   "source": [
    "#install required packages \n",
    "!pip3 install -q streamlit openai python-dotenv"
   ]
  },
  {
   "cell_type": "code",
   "execution_count": 15,
   "metadata": {},
   "outputs": [],
   "source": [
    "#import moduls\n",
    "from openai import OpenAI\n",
    "import streamlit\n",
    "from dotenv import load_dotenv\n",
    "from IPython.display import JSON"
   ]
  },
  {
   "cell_type": "code",
   "execution_count": 16,
   "metadata": {},
   "outputs": [],
   "source": [
    "load_dotenv()\n",
    "client = OpenAI()"
   ]
  },
  {
   "cell_type": "markdown",
   "metadata": {},
   "source": [
    "Create assistant"
   ]
  },
  {
   "cell_type": "code",
   "execution_count": 6,
   "metadata": {},
   "outputs": [],
   "source": [
    "assistant = client.beta.assistants.create(\n",
    "    name=\"Math Tutor\",\n",
    "    instructions=\"You are a personal math tutor. Write and run code to answer math questions.\",\n",
    "    tools=[{\"type\": \"code_interpreter\"}],\n",
    "    model=\"gpt-4-1106-preview\"\n",
    ")"
   ]
  },
  {
   "cell_type": "markdown",
   "metadata": {},
   "source": [
    "Create Thread"
   ]
  },
  {
   "cell_type": "code",
   "execution_count": 7,
   "metadata": {},
   "outputs": [],
   "source": [
    "thread = client.beta.threads.create()"
   ]
  },
  {
   "cell_type": "markdown",
   "metadata": {},
   "source": [
    "Post first message to thread"
   ]
  },
  {
   "cell_type": "code",
   "execution_count": 79,
   "metadata": {},
   "outputs": [],
   "source": [
    "message = client.beta.threads.messages.create(\n",
    "    thread_id=thread.id,\n",
    "    role=\"user\",\n",
    "    content=\"I need to solve the equation `3x + 11 = 14`. Can you help me?\"\n",
    ")"
   ]
  },
  {
   "cell_type": "code",
   "execution_count": 85,
   "metadata": {},
   "outputs": [
    {
     "name": "stdout",
     "output_type": "stream",
     "text": [
      "[ThreadMessage(id='msg_hiBWhe5nhEa87ymrXbzaKcE3', assistant_id='asst_wB3wo3rILPZn8jcSlTKQv8pz', content=[MessageContentText(text=Text(annotations=[], value='The solution to the equation \\\\(3x + 11 = 14\\\\) is \\\\(x = 1\\\\).'), type='text')], created_at=1699824517, file_ids=[], metadata={}, object='thread.message', role='assistant', run_id='run_hsmx0dfKIxwFraY1r9s0rrSv', thread_id='thread_FseH5BmgWEu4CtB6ObzrHPPN'), ThreadMessage(id='msg_jafYKigy8wp9bNhP5a41TH4U', assistant_id=None, content=[MessageContentText(text=Text(annotations=[], value='I need to solve the equation `3x + 11 = 14`. Can you help me?'), type='text')], created_at=1699824480, file_ids=[], metadata={}, object='thread.message', role='user', run_id=None, thread_id='thread_FseH5BmgWEu4CtB6ObzrHPPN')]\n"
     ]
    }
   ],
   "source": [
    "thread_messages = client.beta.threads.messages.list(message.thread_id)\n",
    "print(thread_messages.data)\n"
   ]
  },
  {
   "cell_type": "code",
   "execution_count": 81,
   "metadata": {},
   "outputs": [],
   "source": [
    "run = client.beta.threads.runs.create(\n",
    "  thread_id=thread.id,\n",
    "  assistant_id=assistant.id,\n",
    "  instructions=\"Please address the user as Jane Doe. The user has a premium account.\"\n",
    ")"
   ]
  },
  {
   "cell_type": "code",
   "execution_count": 82,
   "metadata": {},
   "outputs": [
    {
     "name": "stdout",
     "output_type": "stream",
     "text": [
      "Run(id='run_hsmx0dfKIxwFraY1r9s0rrSv', assistant_id='asst_wB3wo3rILPZn8jcSlTKQv8pz', cancelled_at=None, completed_at=1699824517, created_at=1699824509, expires_at=None, failed_at=None, file_ids=[], instructions='Please address the user as Jane Doe. The user has a premium account.', last_error=None, metadata={}, model='gpt-4-1106-preview', object='thread.run', required_action=None, started_at=1699824509, status='completed', thread_id='thread_FseH5BmgWEu4CtB6ObzrHPPN', tools=[ToolAssistantToolsCode(type='code_interpreter')])\n"
     ]
    }
   ],
   "source": [
    "run = client.beta.threads.runs.retrieve(\n",
    "  thread_id=thread.id,\n",
    "  run_id=run.id\n",
    ")\n",
    "print(run)"
   ]
  },
  {
   "cell_type": "code",
   "execution_count": 83,
   "metadata": {},
   "outputs": [
    {
     "name": "stdout",
     "output_type": "stream",
     "text": [
      "Thread(id='thread_FseH5BmgWEu4CtB6ObzrHPPN', created_at=1699824472, metadata={}, object='thread')\n"
     ]
    }
   ],
   "source": [
    "my_thread = client.beta.threads.retrieve(thread.id)\n",
    "print(my_thread)"
   ]
  },
  {
   "cell_type": "code",
   "execution_count": 86,
   "metadata": {},
   "outputs": [
    {
     "name": "stdout",
     "output_type": "stream",
     "text": [
      "[ThreadMessage(id='msg_hiBWhe5nhEa87ymrXbzaKcE3', assistant_id='asst_wB3wo3rILPZn8jcSlTKQv8pz', content=[MessageContentText(text=Text(annotations=[], value='The solution to the equation \\\\(3x + 11 = 14\\\\) is \\\\(x = 1\\\\).'), type='text')], created_at=1699824517, file_ids=[], metadata={}, object='thread.message', role='assistant', run_id='run_hsmx0dfKIxwFraY1r9s0rrSv', thread_id='thread_FseH5BmgWEu4CtB6ObzrHPPN'), ThreadMessage(id='msg_jafYKigy8wp9bNhP5a41TH4U', assistant_id=None, content=[MessageContentText(text=Text(annotations=[], value='I need to solve the equation `3x + 11 = 14`. Can you help me?'), type='text')], created_at=1699824480, file_ids=[], metadata={}, object='thread.message', role='user', run_id=None, thread_id='thread_FseH5BmgWEu4CtB6ObzrHPPN')]\n"
     ]
    }
   ],
   "source": [
    "thread_messages = client.beta.threads.messages.list(message.thread_id)\n",
    "print(thread_messages.data)"
   ]
  },
  {
   "cell_type": "markdown",
   "metadata": {},
   "source": [
    "List all assitants"
   ]
  },
  {
   "cell_type": "code",
   "execution_count": 44,
   "metadata": {},
   "outputs": [
    {
     "name": "stdout",
     "output_type": "stream",
     "text": [
      "[Assistant(id='asst_MtdcfhHMo7Ov3cx0zoBBPzWi', created_at=1699823256, description=None, file_ids=[], instructions='You are a personal math tutor. Write and run code to answer math questions.', metadata={}, model='gpt-4-1106-preview', name='Math Tutor', object='assistant', tools=[ToolCodeInterpreter(type='code_interpreter')]), Assistant(id='asst_DaMkfT1LOI12vUVqRoKpsEew', created_at=1699822833, description=None, file_ids=[], instructions='You are a personal math tutor. Write and run code to answer math questions.', metadata={}, model='gpt-4-1106-preview', name='Math Tutor', object='assistant', tools=[ToolCodeInterpreter(type='code_interpreter')]), Assistant(id='asst_Z8SUIWsXEnL8oQ1NGWSsbypJ', created_at=1699822671, description=None, file_ids=[], instructions='You are a personal math tutor. Write and run code to answer math questions.', metadata={}, model='gpt-4-1106-preview', name='Math Tutor', object='assistant', tools=[ToolCodeInterpreter(type='code_interpreter')]), Assistant(id='asst_8Kwj81ZP7655OX1aQvWnZSfF', created_at=1699822489, description=None, file_ids=[], instructions='You are a personal math tutor. Write and run code to answer math questions.', metadata={}, model='gpt-4-1106-preview', name='Math Tutor', object='assistant', tools=[ToolCodeInterpreter(type='code_interpreter')]), Assistant(id='asst_xt6gi1sNKZo86dVJHLSWgBEx', created_at=1699816254, description=None, file_ids=[], instructions='You are a personal math tutor. Write and run code to answer math questions.', metadata={}, model='gpt-4-1106-preview', name='Math Tutor', object='assistant', tools=[ToolCodeInterpreter(type='code_interpreter')]), Assistant(id='asst_STuXWYfir8A4TxGh6SE5pTjb', created_at=1699615205, description=None, file_ids=[], instructions='You are a personal math tutor. Write and run code to answer math questions.', metadata={}, model='gpt-4-1106-preview', name='Math Tutor', object='assistant', tools=[ToolCodeInterpreter(type='code_interpreter')]), Assistant(id='asst_umkxIh2imkm7qwgNSD0kdk5V', created_at=1699481560, description=None, file_ids=['file-EnlnyDQlOllKjdRp2uc6ti83'], instructions='Your a helpful, sassy assistant that helps me as a business user to understand my documents and get my tasks done efficiently across many different business systems by using their APIs for me', metadata={}, model='gpt-4-1106-preview', name='Jewel', object='assistant', tools=[ToolRetrieval(type='retrieval')])]\n"
     ]
    }
   ],
   "source": [
    "my_assistants = client.beta.assistants.list(\n",
    "    order=\"desc\",\n",
    "    limit=\"20\",\n",
    ")\n",
    "print(my_assistants.data)"
   ]
  },
  {
   "cell_type": "markdown",
   "metadata": {},
   "source": [
    "Delete assistant"
   ]
  },
  {
   "cell_type": "code",
   "execution_count": 17,
   "metadata": {},
   "outputs": [
    {
     "name": "stdout",
     "output_type": "stream",
     "text": [
      "AssistantDeleted(id='asst_uWgzcM26qkGx6E8Saj8fcp6s', deleted=True, object='assistant.deleted')\n",
      "AssistantDeleted(id='asst_GFDZWqC5vN3Nx6r95GHjXJB2', deleted=True, object='assistant.deleted')\n",
      "AssistantDeleted(id='asst_nmhOXMlsFVX34x6Asm0rMLOy', deleted=True, object='assistant.deleted')\n",
      "AssistantDeleted(id='asst_EOpfHPD2RGvQUqnhZ3xHzz8k', deleted=True, object='assistant.deleted')\n",
      "AssistantDeleted(id='asst_L0f19QnAwVCmTDMAum0XF17p', deleted=True, object='assistant.deleted')\n",
      "AssistantDeleted(id='asst_Q1a9daxd5MghzVNjlebCi2s5', deleted=True, object='assistant.deleted')\n",
      "AssistantDeleted(id='asst_KCszwHbq6vUDswQ1TzMdf1Wf', deleted=True, object='assistant.deleted')\n",
      "AssistantDeleted(id='asst_hbDuJxl2UcYwFLDKY5nRnRnc', deleted=True, object='assistant.deleted')\n",
      "AssistantDeleted(id='asst_BzwyKFq07Z81yU5imW10k6Co', deleted=True, object='assistant.deleted')\n",
      "AssistantDeleted(id='asst_dnM1sQVz4veTbFlOISAsKjDn', deleted=True, object='assistant.deleted')\n",
      "AssistantDeleted(id='asst_PCTPRqWcdU4ie7UtzfxzM1uS', deleted=True, object='assistant.deleted')\n",
      "AssistantDeleted(id='asst_GRqoN0sZTPTLK7vQgBNsXsho', deleted=True, object='assistant.deleted')\n",
      "AssistantDeleted(id='asst_58Ryk1zsnhQjNxPLBLheScOD', deleted=True, object='assistant.deleted')\n",
      "AssistantDeleted(id='asst_FZEXO2uypGuyU009V3H2JyGM', deleted=True, object='assistant.deleted')\n"
     ]
    }
   ],
   "source": [
    "# EMpty list, get assistant data and extract ids\n",
    "extracted_ids = []\n",
    "my_assistants = client.beta.assistants.list(\n",
    "    order=\"desc\",\n",
    "    limit=\"99\",\n",
    ")\n",
    "\n",
    "for assistant in my_assistants.data:\n",
    "    extracted_ids.append(assistant.id)\n",
    "\n",
    "for extracted_ids in extracted_ids:\n",
    "    response = client.beta.assistants.delete(extracted_ids)\n",
    "    print(response)"
   ]
  },
  {
   "cell_type": "markdown",
   "metadata": {},
   "source": [
    "TEST OUT SAP APIS"
   ]
  },
  {
   "cell_type": "code",
   "execution_count": 19,
   "metadata": {},
   "outputs": [],
   "source": [
    "def get_fieldglass_approvals(sap_api_key):\n",
    "    \"\"\"\n",
    "    Function to send a GET request to the SAP Fieldglass API for approvals.\n",
    "    The API key is read from a file named '.sap_credentials'.\n",
    "    \n",
    "    :return: A response object from the requests module.\n",
    "    \"\"\"\n",
    "\n",
    "    # Endpoint URL\n",
    "    url = \"https://sandbox.api.sap.com/fieldglass/api/v1/approvals\"\n",
    "\n",
    "    # Headers\n",
    "    headers = {\n",
    "        \"APIKey\": sap_api_key,\n",
    "        \"Accept\": \"application/json\"\n",
    "    }\n",
    "\n",
    "    # Sending the GET request\n",
    "    response = requests.get(url, headers=headers).json()\n",
    "\n",
    "    return response"
   ]
  },
  {
   "cell_type": "code",
   "execution_count": 20,
   "metadata": {},
   "outputs": [],
   "source": [
    "with open('.sap_credentials', 'r') as file:\n",
    "    sap_api_key = file.read().strip()"
   ]
  },
  {
   "cell_type": "code",
   "execution_count": 21,
   "metadata": {},
   "outputs": [
    {
     "data": {
      "text/plain": [
       "'5rJlohCNVvoFyfWK4FaE1YDkgI82sg5x'"
      ]
     },
     "execution_count": 21,
     "metadata": {},
     "output_type": "execute_result"
    }
   ],
   "source": [
    "sap_api_key"
   ]
  },
  {
   "cell_type": "code",
   "execution_count": 22,
   "metadata": {},
   "outputs": [
    {
     "data": {
      "text/plain": [
       "{'HEADER': {'AppVersion': 'FieldglassAPIApprovals/1.0',\n",
       "  'OSUAStr': 'FieldglassAPIApprovals/1.0',\n",
       "  'NumRecs': 15,\n",
       "  'Status': 'ok',\n",
       "  'Details': 'all ok'},\n",
       " 'PAYLOAD': [{'ModuleID': '70',\n",
       "   'ModuleName': 'Time Sheet',\n",
       "   'ID': 'z200202014233099529939dd',\n",
       "   'Attributes': {'ref': 'CRPSTS00002317',\n",
       "    'uom': 'USD',\n",
       "    'name': 'Rhodes, Jason',\n",
       "    'startDate': '2020-02-02',\n",
       "    'amount': '4,000.00',\n",
       "    'refVersion': 0,\n",
       "    'validObject': False,\n",
       "    'sourceLink': 'https://api1.fgvms.com/time_sheet_detail.do?id=z200202014233099529939dd&buyerCode=CRPS&ticc=CRPS',\n",
       "    'profilePictureId': ''},\n",
       "   'Status': 'ok',\n",
       "   'Details': 'all ok',\n",
       "   'ActivityID': '1040'},\n",
       "  {'ModuleID': '70',\n",
       "   'ModuleName': 'Time Sheet',\n",
       "   'ID': 'z200218155142024891739dd',\n",
       "   'Attributes': {'ref': 'CRPSTS00002425',\n",
       "    'uom': 'USD',\n",
       "    'name': 'Winters, Carol',\n",
       "    'startDate': '2020-01-19',\n",
       "    'amount': '2,400.00',\n",
       "    'refVersion': 0,\n",
       "    'validObject': False,\n",
       "    'sourceLink': 'https://api1.fgvms.com/time_sheet_detail.do?id=z200218155142024891739dd&buyerCode=CRPS&ticc=CRPS',\n",
       "    'profilePictureId': ''},\n",
       "   'Status': 'ok',\n",
       "   'Details': 'all ok',\n",
       "   'ActivityID': '1040'},\n",
       "  {'ModuleID': '70',\n",
       "   'ModuleName': 'Time Sheet',\n",
       "   'ID': 'z200218155142024891749dd',\n",
       "   'Attributes': {'ref': 'CRPSTS00002426',\n",
       "    'uom': 'USD',\n",
       "    'name': 'Winters, Carol',\n",
       "    'startDate': '2020-01-26',\n",
       "    'amount': '3,500.00',\n",
       "    'refVersion': 0,\n",
       "    'validObject': False,\n",
       "    'sourceLink': 'https://api1.fgvms.com/time_sheet_detail.do?id=z200218155142024891749dd&buyerCode=CRPS&ticc=CRPS',\n",
       "    'profilePictureId': ''},\n",
       "   'Status': 'ok',\n",
       "   'Details': 'all ok',\n",
       "   'ActivityID': '1040'},\n",
       "  {'ModuleID': '70',\n",
       "   'ModuleName': 'Time Sheet',\n",
       "   'ID': 'z200218155142040891769dd',\n",
       "   'Attributes': {'ref': 'CRPSTS00002428',\n",
       "    'uom': 'USD',\n",
       "    'name': 'Winters, Carol',\n",
       "    'startDate': '2020-02-09',\n",
       "    'amount': '3,200.00',\n",
       "    'refVersion': 0,\n",
       "    'validObject': False,\n",
       "    'sourceLink': 'https://api1.fgvms.com/time_sheet_detail.do?id=z200218155142040891769dd&buyerCode=CRPS&ticc=CRPS',\n",
       "    'profilePictureId': ''},\n",
       "   'Status': 'ok',\n",
       "   'Details': 'all ok',\n",
       "   'ActivityID': '1040'},\n",
       "  {'ModuleID': '70',\n",
       "   'ModuleName': 'Time Sheet',\n",
       "   'ID': 'z200218155142040891779dd',\n",
       "   'Attributes': {'ref': 'CRPSTS00002429',\n",
       "    'uom': 'USD',\n",
       "    'name': 'Winters, Carol',\n",
       "    'startDate': '2020-02-16',\n",
       "    'amount': '3,200.00',\n",
       "    'refVersion': 0,\n",
       "    'validObject': False,\n",
       "    'sourceLink': 'https://api1.fgvms.com/time_sheet_detail.do?id=z200218155142040891779dd&buyerCode=CRPS&ticc=CRPS',\n",
       "    'profilePictureId': ''},\n",
       "   'Status': 'ok',\n",
       "   'Details': 'all ok',\n",
       "   'ActivityID': '1040'},\n",
       "  {'ModuleID': '70',\n",
       "   'ModuleName': 'Time Sheet',\n",
       "   'ID': 'z200223023850150802369dd',\n",
       "   'Attributes': {'ref': 'CRPSTS00002457',\n",
       "    'uom': 'USD',\n",
       "    'name': 'Winters, Carol',\n",
       "    'startDate': '2020-02-23',\n",
       "    'amount': '3,200.00',\n",
       "    'refVersion': 0,\n",
       "    'validObject': False,\n",
       "    'sourceLink': 'https://api1.fgvms.com/time_sheet_detail.do?id=z200223023850150802369dd&buyerCode=CRPS&ticc=CRPS',\n",
       "    'profilePictureId': ''},\n",
       "   'Status': 'ok',\n",
       "   'Details': 'all ok',\n",
       "   'ActivityID': '1040'},\n",
       "  {'ModuleID': '70',\n",
       "   'ModuleName': 'Time Sheet',\n",
       "   'ID': 'z200301063530376930569dd',\n",
       "   'Attributes': {'ref': 'CRPSTS00002463',\n",
       "    'uom': 'USD',\n",
       "    'name': 'Winters, Carol',\n",
       "    'startDate': '2020-03-01',\n",
       "    'amount': '4,000.00',\n",
       "    'refVersion': 0,\n",
       "    'validObject': False,\n",
       "    'sourceLink': 'https://api1.fgvms.com/time_sheet_detail.do?id=z200301063530376930569dd&buyerCode=CRPS&ticc=CRPS',\n",
       "    'profilePictureId': ''},\n",
       "   'Status': 'ok',\n",
       "   'Details': 'all ok',\n",
       "   'ActivityID': '1040'},\n",
       "  {'ModuleID': '70',\n",
       "   'ModuleName': 'Time Sheet',\n",
       "   'ID': 'z200315020219646347339dd',\n",
       "   'Attributes': {'ref': 'CRPSTS00002507',\n",
       "    'uom': 'USD',\n",
       "    'name': 'Winters, Carol',\n",
       "    'startDate': '2020-03-15',\n",
       "    'amount': '800.00',\n",
       "    'refVersion': 0,\n",
       "    'validObject': False,\n",
       "    'sourceLink': 'https://api1.fgvms.com/time_sheet_detail.do?id=z200315020219646347339dd&buyerCode=CRPS&ticc=CRPS',\n",
       "    'profilePictureId': ''},\n",
       "   'Status': 'ok',\n",
       "   'Details': 'all ok',\n",
       "   'ActivityID': '1040'},\n",
       "  {'ModuleID': '70',\n",
       "   'ModuleName': 'Time Sheet',\n",
       "   'ID': 'z200322015709337205609dd',\n",
       "   'Attributes': {'ref': 'CRPSTS00002514',\n",
       "    'uom': 'USD',\n",
       "    'name': 'Winters, Carol',\n",
       "    'startDate': '2020-03-22',\n",
       "    'amount': '800.00',\n",
       "    'refVersion': 0,\n",
       "    'validObject': False,\n",
       "    'sourceLink': 'https://api1.fgvms.com/time_sheet_detail.do?id=z200322015709337205609dd&buyerCode=CRPS&ticc=CRPS',\n",
       "    'profilePictureId': ''},\n",
       "   'Status': 'ok',\n",
       "   'Details': 'all ok',\n",
       "   'ActivityID': '1040'},\n",
       "  {'ModuleID': '70',\n",
       "   'ModuleName': 'Time Sheet',\n",
       "   'ID': 'z200329020519399551359dd',\n",
       "   'Attributes': {'ref': 'CRPSTS00002521',\n",
       "    'uom': 'USD',\n",
       "    'name': 'Winters, Carol',\n",
       "    'startDate': '2020-03-29',\n",
       "    'amount': '800.00',\n",
       "    'refVersion': 0,\n",
       "    'validObject': False,\n",
       "    'sourceLink': 'https://api1.fgvms.com/time_sheet_detail.do?id=z200329020519399551359dd&buyerCode=CRPS&ticc=CRPS',\n",
       "    'profilePictureId': ''},\n",
       "   'Status': 'ok',\n",
       "   'Details': 'all ok',\n",
       "   'ActivityID': '1040'},\n",
       "  {'ModuleID': '70',\n",
       "   'ModuleName': 'Time Sheet',\n",
       "   'ID': 'z200405021330674053399dd',\n",
       "   'Attributes': {'ref': 'CRPSTS00002528',\n",
       "    'uom': 'USD',\n",
       "    'name': 'Winters, Carol',\n",
       "    'startDate': '2020-04-05',\n",
       "    'amount': '2,400.00',\n",
       "    'refVersion': 0,\n",
       "    'validObject': False,\n",
       "    'sourceLink': 'https://api1.fgvms.com/time_sheet_detail.do?id=z200405021330674053399dd&buyerCode=CRPS&ticc=CRPS',\n",
       "    'profilePictureId': ''},\n",
       "   'Status': 'ok',\n",
       "   'Details': 'all ok',\n",
       "   'ActivityID': '1040'},\n",
       "  {'ModuleID': '70',\n",
       "   'ModuleName': 'Time Sheet',\n",
       "   'ID': 'z200412012547626379329dd',\n",
       "   'Attributes': {'ref': 'CRPSTS00002535',\n",
       "    'uom': 'USD',\n",
       "    'name': 'Winters, Carol',\n",
       "    'startDate': '2020-04-12',\n",
       "    'amount': '2,800.00',\n",
       "    'refVersion': 0,\n",
       "    'validObject': False,\n",
       "    'sourceLink': 'https://api1.fgvms.com/time_sheet_detail.do?id=z200412012547626379329dd&buyerCode=CRPS&ticc=CRPS',\n",
       "    'profilePictureId': ''},\n",
       "   'Status': 'ok',\n",
       "   'Details': 'all ok',\n",
       "   'ActivityID': '1040'},\n",
       "  {'ModuleID': '70',\n",
       "   'ModuleName': 'Time Sheet',\n",
       "   'ID': 'z200419010417657415549dd',\n",
       "   'Attributes': {'ref': 'CRPSTS00002542',\n",
       "    'uom': 'USD',\n",
       "    'name': 'Winters, Carol',\n",
       "    'startDate': '2020-04-19',\n",
       "    'amount': '200.00',\n",
       "    'refVersion': 0,\n",
       "    'validObject': False,\n",
       "    'sourceLink': 'https://api1.fgvms.com/time_sheet_detail.do?id=z200419010417657415549dd&buyerCode=CRPS&ticc=CRPS',\n",
       "    'profilePictureId': ''},\n",
       "   'Status': 'ok',\n",
       "   'Details': 'all ok',\n",
       "   'ActivityID': '1040'},\n",
       "  {'ModuleID': '70',\n",
       "   'ModuleName': 'Time Sheet',\n",
       "   'ID': 'z200426002132981198959dd',\n",
       "   'Attributes': {'ref': 'CRPSTS00002549',\n",
       "    'uom': 'USD',\n",
       "    'name': 'Winters, Carol',\n",
       "    'startDate': '2020-04-26',\n",
       "    'amount': '5,600.00',\n",
       "    'refVersion': 0,\n",
       "    'validObject': False,\n",
       "    'sourceLink': 'https://api1.fgvms.com/time_sheet_detail.do?id=z200426002132981198959dd&buyerCode=CRPS&ticc=CRPS',\n",
       "    'profilePictureId': ''},\n",
       "   'Status': 'ok',\n",
       "   'Details': 'all ok',\n",
       "   'ActivityID': '1040'},\n",
       "  {'ModuleID': '40',\n",
       "   'ModuleName': 'Job Posting',\n",
       "   'ID': 'z200504095242894805389dd',\n",
       "   'Attributes': {'ref': 'CRPSJP00000236',\n",
       "    'uom': 'USD',\n",
       "    'name': 'CoPilot Developer - Quick Hire',\n",
       "    'startDate': '2020-05-01',\n",
       "    'endDate': '2020-05-30',\n",
       "    'amount': '840,000.00',\n",
       "    'refVersion': 0,\n",
       "    'validObject': False,\n",
       "    'createDate': '2020-05-04',\n",
       "    'creatorName': 'Tim Lebel',\n",
       "    'uniqueName': 'TimLebel_ism',\n",
       "    'emailId': 'fg_qatest8@sap.com',\n",
       "    'status': 'Pending Approval',\n",
       "    'sourceLink': 'https://api1.fgvms.com/job_posting_detail.do?id=z200504095242894805389dd&ticc=CRPS',\n",
       "    'profilePictureId': ''},\n",
       "   'Status': 'ok',\n",
       "   'Details': 'all ok',\n",
       "   'ActivityID': '1040'}]}"
      ]
     },
     "execution_count": 22,
     "metadata": {},
     "output_type": "execute_result"
    }
   ],
   "source": [
    "get_fieldglass_approvals(sap_api_key)"
   ]
  },
  {
   "cell_type": "code",
   "execution_count": null,
   "metadata": {},
   "outputs": [],
   "source": []
  }
 ],
 "metadata": {
  "kernelspec": {
   "display_name": "Python 3",
   "language": "python",
   "name": "python3"
  },
  "language_info": {
   "codemirror_mode": {
    "name": "ipython",
    "version": 3
   },
   "file_extension": ".py",
   "mimetype": "text/x-python",
   "name": "python",
   "nbconvert_exporter": "python",
   "pygments_lexer": "ipython3",
   "version": "3.12.0"
  }
 },
 "nbformat": 4,
 "nbformat_minor": 2
}
